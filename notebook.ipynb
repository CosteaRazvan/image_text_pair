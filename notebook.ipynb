{
 "cells": [
  {
   "cell_type": "code",
   "execution_count": 1,
   "metadata": {},
   "outputs": [
    {
     "name": "stderr",
     "output_type": "stream",
     "text": [
      "[nltk_data] Downloading package punkt to\n",
      "[nltk_data]     C:\\Users\\razva\\AppData\\Roaming\\nltk_data...\n",
      "[nltk_data]   Package punkt is already up-to-date!\n",
      "[nltk_data] Downloading package stopwords to\n",
      "[nltk_data]     C:\\Users\\razva\\AppData\\Roaming\\nltk_data...\n",
      "[nltk_data]   Package stopwords is already up-to-date!\n"
     ]
    }
   ],
   "source": [
    "import os\n",
    "from torch.utils.data import DataLoader\n",
    "import torchvision.transforms as T\n",
    "import json\n",
    "import torch\n",
    "\n",
    "from dataloading import ImagePairDataset\n",
    "from logger import Logger\n",
    "from trainer import Trainer\n",
    "from dataloading import VocabSize"
   ]
  },
  {
   "cell_type": "code",
   "execution_count": null,
   "metadata": {},
   "outputs": [],
   "source": [
    "DATA_ROOT_PATH = r\"C:\\Users\\razva\\Master1\\An2\\DL\\isp-match-dl-2024\"\n",
    "EXPERIMENTS_ROOT = r\"experiments\""
   ]
  },
  {
   "cell_type": "code",
   "execution_count": 2,
   "metadata": {},
   "outputs": [],
   "source": [
    "def load_data(batch_size=64):\n",
    "    img_transforms = T.Compose([\n",
    "        T.ToTensor(),\n",
    "        T.Resize((224, 244))\n",
    "    ])\n",
    "\n",
    "    train_dataset = ImagePairDataset(DATA_ROOT_PATH, \"train\", img_transforms)\n",
    "    val_dataset = ImagePairDataset(DATA_ROOT_PATH, \"val\", img_transforms)\n",
    "    test_dataset = ImagePairDataset(DATA_ROOT_PATH, \"test\", img_transforms)\n",
    "\n",
    "    train_dataloader = DataLoader(train_dataset, batch_size=batch_size, shuffle=True)\n",
    "    val_dataloader = DataLoader(val_dataset, batch_size=batch_size, shuffle=False)\n",
    "    test_dataloader = DataLoader(test_dataset, batch_size=batch_size, shuffle=False)\n",
    "\n",
    "    return train_dataloader, val_dataloader, test_dataloader"
   ]
  },
  {
   "cell_type": "code",
   "execution_count": null,
   "metadata": {},
   "outputs": [],
   "source": [
    "from trainer import Trainer\n",
    "\n",
    "trainer = Trainer(cfg, logger, train_dataloader, val_dataloader, test_dataloader)\n",
    "\n",
    "trainer.train()\n",
    "trainer.test_step()"
   ]
  }
 ],
 "metadata": {
  "kernelspec": {
   "display_name": "Python 3",
   "language": "python",
   "name": "python3"
  },
  "language_info": {
   "codemirror_mode": {
    "name": "ipython",
    "version": 3
   },
   "file_extension": ".py",
   "mimetype": "text/x-python",
   "name": "python",
   "nbconvert_exporter": "python",
   "pygments_lexer": "ipython3",
   "version": "3.12.4"
  }
 },
 "nbformat": 4,
 "nbformat_minor": 2
}
